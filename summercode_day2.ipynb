from google.colab import files
uploaded = files.upload()

# Load CSV (update name if different)
import pandas as pd

df = pd.read_csv('bank-full.csv', sep=';')
df.head()


from sklearn.preprocessing import LabelEncoder, StandardScaler
from sklearn.model_selection import train_test_split
import numpy as np

# Make a copy
data = df.copy()

# Replace 'unknown' with NaN and drop rows with missing values
data.replace('unknown', pd.NA, inplace=True)
data.dropna(inplace=True)

# Encode all categorical columns
label_encoders = {}
for col in data.select_dtypes(include='object').columns:
    le = LabelEncoder()
    data[col] = le.fit_transform(data[col])
    label_encoders[col] = le

# Define features (X) and target (y)
X = data.drop('y', axis=1)
y = data['y']

# Standardize features
scaler = StandardScaler()
X_scaled = scaler.fit_transform(X)

# Train-test split
X_train, X_test, y_train, y_test = train_test_split(X_scaled, y, test_size=0.3, random_state=42)


# STEP 4: Train ML Models
from sklearn.linear_model import LogisticRegression
from sklearn.tree import DecisionTreeClassifier
from sklearn.ensemble import RandomForestClassifier
from sklearn.neighbors import KNeighborsClassifier
from sklearn.svm import SVC
from sklearn.metrics import accuracy_score, classification_report

# Define models
models = {
    "Logistic Regression": LogisticRegression(max_iter=1000),
    "Decision Tree": DecisionTreeClassifier(),
    "Random Forest": RandomForestClassifier(),
    "K-Nearest Neighbors": KNeighborsClassifier(),
    "Support Vector Machine": SVC()
}

# Train and evaluate
for name, model in models.items():
    model.fit(X_train, y_train)
    y_pred = model.predict(X_test)
    print(f"\n🔹 {name}")
    print("Accuracy:", round(accuracy_score(y_test, y_pred)*100, 2), "%")
    print(classification_report(y_test, y_pred))


# Plot accuracies
import matplotlib.pyplot as plt
import seaborn as sns

# Get accuracies from the trained models
accuracies = {name: accuracy_score(y_test, model.predict(X_test)) for name, model in models.items()}

plt.figure(figsize=(10,6))
sns.barplot(x=list(accuracies.keys()), y=list(accuracies.values()))
plt.title("Model Accuracy Comparison")
plt.ylabel("Accuracy")
plt.ylim(0.80, 1.00)
plt.xticks(rotation=20)
plt.grid(True)
plt.tight_layout()
plt.show()



rf_model = models["Random Forest"]
importances = rf_model.feature_importances_
feature_names = X.columns

# Plot top 10 features
plt.figure(figsize=(10,6))
sns.barplot(x=importances, y=feature_names)
plt.title("Random Forest - Feature Importance")
plt.xlabel("Importance Score")
plt.ylabel("Features")
plt.tight_layout()
plt.show()


from sklearn.model_selection import cross_val_score
import numpy as np

print("\n🔁 Cross-Validation (5-Fold Mean Accuracy):")
for name, model in models.items():
    scores = cross_val_score(model, X_scaled, y, cv=5)
    print(f"{name}: {np.mean(scores):.4f}")


from sklearn.metrics import roc_curve, auc
from sklearn.preprocessing import label_binarize

# Binarize labels
y_bin = label_binarize(y, classes=[0, 1]).ravel()

plt.figure(figsize=(10,6))

for name, model in models.items():
    if hasattr(model, "predict_proba"):
        y_score = model.predict_proba(X_test)[:, 1]
    else:
        y_score = model.decision_function(X_test)

    fpr, tpr, _ = roc_curve(y_test, y_score)
    roc_auc = auc(fpr, tpr)

    plt.plot(fpr, tpr, label=f'{name} (AUC = {roc_auc:.2f})')

# Plot ROC curve
plt.plot([0, 1], [0, 1], 'k--')  # Diagonal
plt.title("ROC Curve Comparison")
plt.xlabel("False Positive Rate")
plt.ylabel("True Positive Rate")
plt.legend(loc="lower right")
plt.grid(True)
plt.tight_layout()
plt.show()
